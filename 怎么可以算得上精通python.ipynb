{
 "cells": [
  {
   "cell_type": "markdown",
   "metadata": {},
   "source": [
    "# 如何才能算精通python\n",
    "## from xlzdPython on Zhihu\n",
    "作者：xlzd\n",
    "\n",
    "链接：https://www.zhihu.com/question/19794855/answer/111320427\n",
    "\n",
    "来源：知乎\n",
    "\n",
    "著作权归作者所有，转载请联系作者获得授权。\n",
    "\n",
    "\n",
    "### level 1：了解基本语法\n",
    "这是最容易的一级，掌握了 Python 的基本语法，可以通过 Python 代码实现常用的需求，不管代码质量怎么样。这部分内容，可以参考：The Python Tutorial。\n",
    "\n",
    "### level 2：熟练使用常用的库\n",
    "熟悉常用 standard library 的使用，包括但不限于 copy / json / itertools / collections / hashlib / os / sys 等，这部分内容，可以参考：The Python Standard Library。\n",
    "熟悉常用的第三方库，这就根据每个人不同的用法而有所不同了，但是一定要掌握你所常用的那个领域里的第三方库。\n",
    "\n",
    "### level 3：Pythonic\n",
    "这一级别比上一级别稍难，但是还是可以轻松达到。所谓 Pythonic，就是相比其它语言，Python 可以通过更加优雅的实现方式（不管是语法糖还是什么），比如（包括但不限于） with、for-else、try-else、yield 等。\n",
    "另外你还需要掌握这些所谓魔法的实现原理，了解 Python 在语法层面的一些协议，可以自己实现语法糖。如 with 的实现方式（上下文管理器）等。\n",
    "达到这一级，你的代码可以看起来很漂亮了。这部分内容，可以参考：\n",
    "The Python Language Reference\n",
    "Python HOWTOs\n",
    "\n",
    "### level 4：高级玩法\n",
    "掌握 Python 的内存机制、GIL 限制等，知道如何改变 Python 的行为，可以轻松写出高效的优质的 Python 代码，能够轻松分辨不同 Python 代码的效率并知道如何优化。\n",
    "\n",
    "### level 5：看透本质\n",
    "阅读 Python 的 C 实现，掌握 Python 中各种对象的本质，掌握是如何通过 C 实现面向对象的行为，对于常见的数据结构，掌握其实现细节。到这一步，需要将 Python 源码学习至少一遍，并对关键部分有较深层次的理解。\n",
    "\n",
    "### level 6：手到拈来，一切皆空\n",
    "不可说，不必说~\n",
    "\n",
    "## from 罗伊 on Zhihu\n",
    "作者：罗伊\n",
    "\n",
    "链接：https://www.zhihu.com/question/19794855/answer/32534285\n",
    "\n",
    "来源：知乎\n",
    "\n",
    "著作权归作者所有，转载请联系作者获得授权。\n",
    "\n",
    "要想精通python，写的代码首先得pythonic，自己闭门造车肯定不行，肯定需要研读牛B的开源代码，在这过程中会遇到python的许多高阶用法\n",
    "### 1. 装饰器\n",
    "装饰器在框架中运用的很多，比如flask_login，要精通至少很随意的写出满足需求的装饰器，用装饰器肯定需要functools模块的支持\n",
    "### 2. 生成器 \n",
    "说道生成器就自然地联系到各种推导式（列表，元祖，字段，集合），那肯定也要提到itertools模块，contextlib标准库中是个典范，说到contextlib就需要提到with协议，迭代器协议，以及标准库中的哪些实现了它们，如文件描述符，线程锁，继续延伸的话需要了解greenlet提供的协程，那就不得不提gevent,eventlet\n",
    "### 3. 描述符\n",
    "这你就得知道所有的函数其实都是描述符，property,classmethod,staticmethod都是通过描述符实现的，那就得提到werkzeug和bottle都提供的cached_property，都是访问属性的就得提到\n",
    "__getattr__和__getattribute__，知道在合适的时候定义合适的方法简化流程\n",
    "### 4. 元类\n",
    "其实这玩意用处很大，如sqlalchemy，django的orm中field的定义都用到了它，那你得知道当python解析py时，发现__metaclass__的时候就会调用元类的__new__和__init__,如果你理解元类的__new__和__init__的第一个参数都是类(而不是self)那元类就差不多了\n",
    "### 5. 多线程\n",
    "虽说python由于gil的限制不能利用多核，但在处理io密集型的任务还是有很大好处的,\n",
    "那得知道threading.RLock是线程可重入锁，daemon thread的用处(python执行环境会等待所有非daemon thread的结束)，Queue是线程安全的锁，logging是线程安全的日志模块，还有线程池也要熟悉\n",
    "### 6. 其它\n",
    "如python2,6/7包含了不少新特性，如abc模块的抽象方法机制，collections提供的有用容器，python中的编码问题，super为啥需要两个参数，而3不需要参数，经典的闭包问题，NotImplemented和NotImplementedError的区别，多继承的mro问题，相对导入原理(__name__,如果看最新开源代码，基本都是相对导入)......"
   ]
  }
 ],
 "metadata": {
  "kernelspec": {
   "display_name": "Python 2",
   "language": "python",
   "name": "python2"
  },
  "language_info": {
   "codemirror_mode": {
    "name": "ipython",
    "version": 2
   },
   "file_extension": ".py",
   "mimetype": "text/x-python",
   "name": "python",
   "nbconvert_exporter": "python",
   "pygments_lexer": "ipython2",
   "version": "2.7.11"
  }
 },
 "nbformat": 4,
 "nbformat_minor": 1
}
