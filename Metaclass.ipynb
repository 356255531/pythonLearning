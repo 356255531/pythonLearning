{
 "cells": [
  {
   "cell_type": "markdown",
   "metadata": {},
   "source": [
    "# 陌生的 Meta class"
   ]
  },
  {
   "cell_type": "markdown",
   "metadata": {},
   "source": [
    "## 元类\n",
    "Python 中的元类（metaclass）是一个深度魔法，平时我们可能比较少接触到元类，本文将通过一些简单的例子来理解这个魔法。\n",
    "\n",
    "## 类也是对象\n",
    "\n",
    "在 Python 中，一切皆对象。字符串，列表，字典，函数是对象，类也是一个对象，因此你可以：\n",
    "\n",
    "把类赋值给一个变量\n",
    "把类作为函数参数进行传递\n",
    "把类作为函数的返回值\n",
    "在运行时动态地创建类\n",
    "看一个简单的例子："
   ]
  },
  {
   "cell_type": "code",
   "execution_count": 3,
   "metadata": {
    "collapsed": true
   },
   "outputs": [],
   "source": [
    "class Foo(object):\n",
    "    foo = True\n",
    "    \n",
    "class Bar(object):\n",
    "    bar = True\n",
    "\n",
    "def echo(cls):\n",
    "    print cls\n",
    "\n",
    "def select(name):\n",
    "    if name == 'foo':\n",
    "        return Foo        # 返回值是一个类\n",
    "    if name == 'bar':\n",
    "        return Bar"
   ]
  },
  {
   "cell_type": "code",
   "execution_count": 6,
   "metadata": {
    "collapsed": false
   },
   "outputs": [
    {
     "name": "stdout",
     "output_type": "stream",
     "text": [
      "<class '__main__.Foo'>\n"
     ]
    }
   ],
   "source": [
    "echo(Foo)   # 把类作为参数传递给函数 echo"
   ]
  },
  {
   "cell_type": "code",
   "execution_count": 8,
   "metadata": {
    "collapsed": false
   },
   "outputs": [
    {
     "data": {
      "text/plain": [
       "__main__.Foo"
      ]
     },
     "execution_count": 8,
     "metadata": {},
     "output_type": "execute_result"
    }
   ],
   "source": [
    "cls = select('foo')   # 函数 select 的返回值是一个类，把它赋给变量 cls\n",
    "cls"
   ]
  },
  {
   "cell_type": "markdown",
   "metadata": {},
   "source": [
    "## 熟悉又陌生的 type\n",
    "\n",
    "在日常使用中，我们经常使用 object 来派生一个类，事实上，在这种情况下，Python 解释器会调用 type 来创建类。\n",
    "\n",
    "这里，出现了 type，没错，是你知道的 type，我们经常使用它来判断一个对象的类型，比如："
   ]
  },
  {
   "cell_type": "code",
   "execution_count": 13,
   "metadata": {
    "collapsed": false
   },
   "outputs": [
    {
     "data": {
      "text/plain": [
       "int"
      ]
     },
     "execution_count": 13,
     "metadata": {},
     "output_type": "execute_result"
    }
   ],
   "source": [
    "class Foo(object):\n",
    "    Foo = True\n",
    "\n",
    "type(10)"
   ]
  },
  {
   "cell_type": "code",
   "execution_count": 10,
   "metadata": {
    "collapsed": false
   },
   "outputs": [
    {
     "data": {
      "text/plain": [
       "str"
      ]
     },
     "execution_count": 10,
     "metadata": {},
     "output_type": "execute_result"
    }
   ],
   "source": [
    "type('hello')\n"
   ]
  },
  {
   "cell_type": "code",
   "execution_count": 14,
   "metadata": {
    "collapsed": false
   },
   "outputs": [
    {
     "data": {
      "text/plain": [
       "__main__.Foo"
      ]
     },
     "execution_count": 14,
     "metadata": {},
     "output_type": "execute_result"
    }
   ],
   "source": [
    "type(Foo())"
   ]
  },
  {
   "cell_type": "code",
   "execution_count": 15,
   "metadata": {
    "collapsed": false
   },
   "outputs": [
    {
     "data": {
      "text/plain": [
       "type"
      ]
     },
     "execution_count": 15,
     "metadata": {},
     "output_type": "execute_result"
    }
   ],
   "source": [
    "type(Foo)"
   ]
  },
  {
   "cell_type": "markdown",
   "metadata": {},
   "source": [
    "**事实上，type 除了可以返回对象的类型，它还可以被用来动态地创建类（对象）。**下面，我们看几个例子，来消化一下这句话。\n",
    "\n",
    "使用 type 来创建类（对象）的方式如下：\n",
    "\n",
    ">type(类名, 父类的元组（针对继承的情况，可以为空），包含属性和方法的字典（名称和值）)\n",
    "\n",
    "## 最简单的情况\n",
    "\n",
    "假设有下面的类："
   ]
  },
  {
   "cell_type": "code",
   "execution_count": 16,
   "metadata": {
    "collapsed": true
   },
   "outputs": [],
   "source": [
    "class Foo(object):\n",
    "    pass"
   ]
  },
  {
   "cell_type": "markdown",
   "metadata": {},
   "source": [
    "现在，我们不使用 class 关键字来定义，而使用 type，如下："
   ]
  },
  {
   "cell_type": "code",
   "execution_count": 17,
   "metadata": {
    "collapsed": true
   },
   "outputs": [],
   "source": [
    "Foo = type('Foo', (object, ), {})    # 使用 type 创建了一个类对象"
   ]
  },
  {
   "cell_type": "markdown",
   "metadata": {},
   "source": [
    "上面两种方式是等价的。我们看到，type 接收三个参数：\n",
    "\n",
    "- 第 1 个参数是字符串 ‘Foo’，表示类名\n",
    "- 第 2 个参数是元组 (object, )，表示所有的父类\n",
    "- 第 3 个参数是字典，这里是一个空字典，表示没有定义属性和方法\n",
    "在上面，我们使用 type() 创建了一个名为 Foo 的类，然后把它赋给了变量 Foo，我们当然可以把它赋给其他变量，但是，此刻没必要给自己找麻烦。\n",
    "\n",
    "接着，我们看看使用："
   ]
  },
  {
   "cell_type": "code",
   "execution_count": 18,
   "metadata": {
    "collapsed": false
   },
   "outputs": [
    {
     "name": "stdout",
     "output_type": "stream",
     "text": [
      "<class '__main__.Foo'>\n"
     ]
    }
   ],
   "source": [
    "print Foo"
   ]
  },
  {
   "cell_type": "code",
   "execution_count": 19,
   "metadata": {
    "collapsed": false
   },
   "outputs": [
    {
     "name": "stdout",
     "output_type": "stream",
     "text": [
      "<__main__.Foo object at 0x10677f590>\n"
     ]
    }
   ],
   "source": [
    "print Foo()"
   ]
  },
  {
   "cell_type": "markdown",
   "metadata": {},
   "source": [
    "## 有属性和方法的情况\n",
    "\n",
    "假设有下面的类："
   ]
  },
  {
   "cell_type": "code",
   "execution_count": 20,
   "metadata": {
    "collapsed": true
   },
   "outputs": [],
   "source": [
    "class Foo(object):\n",
    "    foo = True\n",
    "    def greet(self):\n",
    "        print 'hello world'\n",
    "        print self.foo"
   ]
  },
  {
   "cell_type": "code",
   "execution_count": 22,
   "metadata": {
    "collapsed": true
   },
   "outputs": [],
   "source": [
    "def greet(self):\n",
    "    print 'hello world'\n",
    "    print self.foo\n",
    "\n",
    "Foo = type('Foo', (object, ), {'foo': True, 'greet': greet})"
   ]
  },
  {
   "cell_type": "markdown",
   "metadata": {},
   "source": [
    "上面两种方式的效果是一样的，看下使用："
   ]
  },
  {
   "cell_type": "code",
   "execution_count": 23,
   "metadata": {
    "collapsed": false
   },
   "outputs": [
    {
     "data": {
      "text/plain": [
       "True"
      ]
     },
     "execution_count": 23,
     "metadata": {},
     "output_type": "execute_result"
    }
   ],
   "source": [
    "f = Foo()\n",
    "f.foo"
   ]
  },
  {
   "cell_type": "code",
   "execution_count": 24,
   "metadata": {
    "collapsed": false
   },
   "outputs": [
    {
     "data": {
      "text/plain": [
       "<bound method Foo.greet of <__main__.Foo object at 0x10677fc10>>"
      ]
     },
     "execution_count": 24,
     "metadata": {},
     "output_type": "execute_result"
    }
   ],
   "source": [
    "f.greet"
   ]
  },
  {
   "cell_type": "code",
   "execution_count": 25,
   "metadata": {
    "collapsed": false
   },
   "outputs": [
    {
     "name": "stdout",
     "output_type": "stream",
     "text": [
      "hello world\n",
      "True\n"
     ]
    }
   ],
   "source": [
    "f.greet()"
   ]
  },
  {
   "cell_type": "markdown",
   "metadata": {},
   "source": [
    "## 继承的情况\n",
    "\n",
    "再来看看继承的情况，假设有如下的父类："
   ]
  },
  {
   "cell_type": "code",
   "execution_count": 26,
   "metadata": {
    "collapsed": true
   },
   "outputs": [],
   "source": [
    "class Base(object):\n",
    "    pass"
   ]
  },
  {
   "cell_type": "markdown",
   "metadata": {},
   "source": [
    "我们用 Base 派生一个 Foo 类，如下："
   ]
  },
  {
   "cell_type": "code",
   "execution_count": 29,
   "metadata": {
    "collapsed": true
   },
   "outputs": [],
   "source": [
    "class Foo(Base):\n",
    "    foo = True"
   ]
  },
  {
   "cell_type": "markdown",
   "metadata": {},
   "source": [
    "改用 type 来创建，如下："
   ]
  },
  {
   "cell_type": "code",
   "execution_count": 30,
   "metadata": {
    "collapsed": true
   },
   "outputs": [],
   "source": [
    "Foo = type('Foo', (Base, ), {'foo': True})"
   ]
  },
  {
   "cell_type": "markdown",
   "metadata": {},
   "source": [
    "## 什么是元类（metaclass）"
   ]
  },
  {
   "cell_type": "markdown",
   "metadata": {},
   "source": [
    "元类（metaclass）是用来创建类（对象）的可调用对象。这里的可调用对象可以是函数或者类等。但一般情况下，我们使用类作为元类。对于实例对象、类和元类，我们可以用下面的图来描述："
   ]
  },
  {
   "cell_type": "code",
   "execution_count": null,
   "metadata": {
    "collapsed": true
   },
   "outputs": [],
   "source": [
    "类是实例对象的模板，元类是类的模板\n",
    " \n",
    "+----------+             +----------+             +----------+\n",
    "|          |             |          |             |          |\n",
    "|          | instance of |          | instance of |          |\n",
    "| instance +------------>+  class   +------------>+ metaclass|\n",
    "|          |             |          |             |          |\n",
    "|          |             |          |             |          |\n",
    "+----------+             +----------+             +----------+"
   ]
  },
  {
   "cell_type": "markdown",
   "metadata": {},
   "source": [
    "我们在前面使用了 type 来创建类（对象），事实上，type 就是一个元类。\n",
    "\n",
    "那么，元类到底有什么用呢？要你何用…\n",
    "\n",
    "元类的主要目的是为了控制类的创建行为。我们还是先来看看一些例子，以消化这句话。\n",
    "\n",
    "## 元类的使用\n",
    "\n",
    "先从一个简单的例子开始，假设有下面的类："
   ]
  },
  {
   "cell_type": "code",
   "execution_count": 32,
   "metadata": {
    "collapsed": true
   },
   "outputs": [],
   "source": [
    "class Foo(object):\n",
    "    name = 'foo'\n",
    "    def bar(self):\n",
    "        print 'bar'"
   ]
  },
  {
   "cell_type": "markdown",
   "metadata": {},
   "source": [
    "现在我们想给这个类的方法和属性名称前面加上 my_ 前缀，即 name 变成 my_name，bar 变成 my_bar，另外，我们还想加一个 echo 方法。当然，有很多种做法，这里展示用元类的做法。\n",
    "\n",
    "1.首先，定义一个元类，按照默认习惯，类名以 Metaclass 结尾，代码如下："
   ]
  },
  {
   "cell_type": "code",
   "execution_count": 33,
   "metadata": {
    "collapsed": true
   },
   "outputs": [],
   "source": [
    "class PrefixMetaclass(type):\n",
    "    def __new__(cls, name, bases, attrs):\n",
    "        # 给所有属性和方法前面加上前缀 my_\n",
    "        _attrs = (('my_' + name, value) for name, value in attrs.items())  \n",
    "        \n",
    "        _attrs = dict((name, value) for name, value in _attrs)  # 转化为字典\n",
    "        _attrs['echo'] = lambda self, phrase: phrase  # 增加了一个 echo 方法\n",
    "        \n",
    "        return type.__new__(cls, name, bases, _attrs)  # 返回创建后的类"
   ]
  },
  {
   "cell_type": "markdown",
   "metadata": {},
   "source": [
    "上面的代码有几个需要注意的点：\n",
    "\n",
    "- PrefixMetaClass 从 type 继承，这是因为 PrefixMetaclass 是用来创建类的\n",
    "- __new__ 是在 __init__ 之前被调用的特殊方法，它用来创建对象并返回创建后的对象，对它的参数解释如下：\n",
    "    - cls：当前准备创建的类\n",
    "    - name：类的名字\n",
    "    - bases：类的父类集合\n",
    "    - attrs：类的属性和方法，是一个字典\n",
    "\n",
    "2.接着，我们需要指示 Foo 使用 PrefixMetaclass 来定制类。\n",
    "\n",
    "在 Python2 中，我们只需在 Foo 中加一个 __metaclass__ 的属性，如下："
   ]
  },
  {
   "cell_type": "code",
   "execution_count": 34,
   "metadata": {
    "collapsed": true
   },
   "outputs": [],
   "source": [
    "class Foo(object):\n",
    "    __metaclass__ = PrefixMetaclass\n",
    "    name = 'foo'\n",
    "    def bar(self):\n",
    "        print 'bar'"
   ]
  },
  {
   "cell_type": "markdown",
   "metadata": {},
   "source": [
    "现在，让我们看看使用："
   ]
  },
  {
   "cell_type": "code",
   "execution_count": 35,
   "metadata": {
    "collapsed": false
   },
   "outputs": [
    {
     "ename": "AttributeError",
     "evalue": "'Foo' object has no attribute 'name'",
     "output_type": "error",
     "traceback": [
      "\u001b[0;31m---------------------------------------------------------------------------\u001b[0m",
      "\u001b[0;31mAttributeError\u001b[0m                            Traceback (most recent call last)",
      "\u001b[0;32m<ipython-input-35-602f5964a960>\u001b[0m in \u001b[0;36m<module>\u001b[0;34m()\u001b[0m\n\u001b[1;32m      1\u001b[0m \u001b[0mf\u001b[0m \u001b[0;34m=\u001b[0m \u001b[0mFoo\u001b[0m\u001b[0;34m(\u001b[0m\u001b[0;34m)\u001b[0m\u001b[0;34m\u001b[0m\u001b[0m\n\u001b[0;32m----> 2\u001b[0;31m \u001b[0mf\u001b[0m\u001b[0;34m.\u001b[0m\u001b[0mname\u001b[0m    \u001b[0;31m# name 属性已经被改变\u001b[0m\u001b[0;34m\u001b[0m\u001b[0m\n\u001b[0m",
      "\u001b[0;31mAttributeError\u001b[0m: 'Foo' object has no attribute 'name'"
     ]
    }
   ],
   "source": [
    "f = Foo()\n",
    "f.name    # name 属性已经被改变"
   ]
  },
  {
   "cell_type": "code",
   "execution_count": 36,
   "metadata": {
    "collapsed": false
   },
   "outputs": [
    {
     "data": {
      "text/plain": [
       "'foo'"
      ]
     },
     "execution_count": 36,
     "metadata": {},
     "output_type": "execute_result"
    }
   ],
   "source": [
    "f.my_name"
   ]
  },
  {
   "cell_type": "code",
   "execution_count": 37,
   "metadata": {
    "collapsed": false
   },
   "outputs": [
    {
     "name": "stdout",
     "output_type": "stream",
     "text": [
      "bar\n"
     ]
    }
   ],
   "source": [
    "f.my_bar()"
   ]
  },
  {
   "cell_type": "code",
   "execution_count": 38,
   "metadata": {
    "collapsed": false
   },
   "outputs": [
    {
     "data": {
      "text/plain": [
       "'hello'"
      ]
     },
     "execution_count": 38,
     "metadata": {},
     "output_type": "execute_result"
    }
   ],
   "source": [
    "f.echo('hello')"
   ]
  },
  {
   "cell_type": "markdown",
   "metadata": {},
   "source": [
    "可以看到，Foo 原来的属性 name 已经变成了 my_name，而方法 bar 也变成了 my_bar，这就是元类的魔法。\n",
    "\n",
    "再来看一个继承的例子，下面是完整的代码："
   ]
  },
  {
   "cell_type": "code",
   "execution_count": 39,
   "metadata": {
    "collapsed": true
   },
   "outputs": [],
   "source": [
    "class PrefixMetaclass(type):\n",
    "    def __new__(cls, name, bases, attrs):\n",
    "        # 给所有属性和方法前面加上前缀 my_\n",
    "        _attrs = (('my_' + name, value) for name, value in attrs.items())  \n",
    "        \n",
    "        _attrs = dict((name, value) for name, value in _attrs)  # 转化为字典\n",
    "        _attrs['echo'] = lambda self, phrase: phrase  # 增加了一个 echo 方法\n",
    "        \n",
    "        return type.__new__(cls, name, bases, _attrs)\n",
    "\n",
    "class Foo(object):\n",
    "    __metaclass__ = PrefixMetaclass   # 注意跟 Python3 的写法有所区别\n",
    "    name = 'foo'\n",
    "    def bar(self):\n",
    "        print 'bar'\n",
    "\n",
    "class Bar(Foo):\n",
    "    prop = 'bar'"
   ]
  },
  {
   "cell_type": "markdown",
   "metadata": {},
   "source": [
    "其中，PrefixMetaclass 和 Foo 跟前面的定义是一样的，只是新增了 Bar，它继承自 Foo。先让我们看看使用："
   ]
  },
  {
   "cell_type": "code",
   "execution_count": 40,
   "metadata": {
    "collapsed": false
   },
   "outputs": [
    {
     "ename": "AttributeError",
     "evalue": "'Bar' object has no attribute 'prop'",
     "output_type": "error",
     "traceback": [
      "\u001b[0;31m---------------------------------------------------------------------------\u001b[0m",
      "\u001b[0;31mAttributeError\u001b[0m                            Traceback (most recent call last)",
      "\u001b[0;32m<ipython-input-40-355ce2b81f05>\u001b[0m in \u001b[0;36m<module>\u001b[0;34m()\u001b[0m\n\u001b[1;32m      1\u001b[0m \u001b[0mb\u001b[0m \u001b[0;34m=\u001b[0m \u001b[0mBar\u001b[0m\u001b[0;34m(\u001b[0m\u001b[0;34m)\u001b[0m\u001b[0;34m\u001b[0m\u001b[0m\n\u001b[0;32m----> 2\u001b[0;31m \u001b[0mb\u001b[0m\u001b[0;34m.\u001b[0m\u001b[0mprop\u001b[0m     \u001b[0;31m# 发现没这个属性\u001b[0m\u001b[0;34m\u001b[0m\u001b[0m\n\u001b[0m",
      "\u001b[0;31mAttributeError\u001b[0m: 'Bar' object has no attribute 'prop'"
     ]
    }
   ],
   "source": [
    "b = Bar()\n",
    "b.prop     # 发现没这个属性"
   ]
  },
  {
   "cell_type": "code",
   "execution_count": 41,
   "metadata": {
    "collapsed": false
   },
   "outputs": [
    {
     "data": {
      "text/plain": [
       "'bar'"
      ]
     },
     "execution_count": 41,
     "metadata": {},
     "output_type": "execute_result"
    }
   ],
   "source": [
    "b.my_prop"
   ]
  },
  {
   "cell_type": "code",
   "execution_count": 42,
   "metadata": {
    "collapsed": false
   },
   "outputs": [
    {
     "data": {
      "text/plain": [
       "'foo'"
      ]
     },
     "execution_count": 42,
     "metadata": {},
     "output_type": "execute_result"
    }
   ],
   "source": [
    "b.my_name"
   ]
  },
  {
   "cell_type": "code",
   "execution_count": 43,
   "metadata": {
    "collapsed": false
   },
   "outputs": [
    {
     "name": "stdout",
     "output_type": "stream",
     "text": [
      "bar\n"
     ]
    }
   ],
   "source": [
    "b.my_bar()"
   ]
  },
  {
   "cell_type": "code",
   "execution_count": 44,
   "metadata": {
    "collapsed": false
   },
   "outputs": [
    {
     "data": {
      "text/plain": [
       "'hello'"
      ]
     },
     "execution_count": 44,
     "metadata": {},
     "output_type": "execute_result"
    }
   ],
   "source": [
    "b.echo('hello')"
   ]
  },
  {
   "cell_type": "markdown",
   "metadata": {},
   "source": [
    "我们发现，Bar 没有 prop 这个属性，但是有 my_prop 这个属性，这是为什么呢？\n",
    "\n",
    "原来，当我们定义 class Bar(Foo) 时，Python 会首先在当前类，即 Bar 中寻找 __metaclass__，如果没有找到，就会在父类 Foo 中寻找 __metaclass__，如果找不到，就继续在 Foo 的父类寻找，如此继续下去，如果在任何父类都找不到 __metaclass__，就会到模块层次中寻找，如果还是找不到，就会用 type 来创建这个类。\n",
    "\n",
    "这里，我们在 Foo 找到了 __metaclass__，Python 会使用 PrefixMetaclass 来创建 Bar，也就是说，元类会隐式地继承到子类，虽然没有显示地在子类使用 __metaclass__，这也解释了为什么 Bar 的 prop 属性被动态修改成了 my_prop。\n",
    "\n",
    "写到这里，不知道你理解元类了没？希望理解了，如果没理解，就多看几遍吧~\n",
    "\n",
    "## 小结\n",
    "\n",
    "- 在 Python 中，类也是一个对象。\n",
    "- 类创建实例，元类创建类。\n",
    "- 当你创建类时，解释器会调用元类来生成它，定义一个继承自 object 的普通类意味着调用 type 来创建它。\n",
    "\n",
    "## 参考资料\n",
    "\n",
    "oop – What is a metaclass in Python? – Stack Overflow\n",
    "深刻理解Python中的元类(metaclass) – 伯乐在线\n",
    "使用元类 – 廖雪峰的官方网站"
   ]
  },
  {
   "cell_type": "code",
   "execution_count": null,
   "metadata": {
    "collapsed": true
   },
   "outputs": [],
   "source": []
  }
 ],
 "metadata": {
  "kernelspec": {
   "display_name": "Python 2",
   "language": "python",
   "name": "python2"
  },
  "language_info": {
   "codemirror_mode": {
    "name": "ipython",
    "version": 2
   },
   "file_extension": ".py",
   "mimetype": "text/x-python",
   "name": "python",
   "nbconvert_exporter": "python",
   "pygments_lexer": "ipython2",
   "version": "2.7.13"
  }
 },
 "nbformat": 4,
 "nbformat_minor": 2
}
