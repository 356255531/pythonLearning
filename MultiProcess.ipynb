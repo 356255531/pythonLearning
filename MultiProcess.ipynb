{
 "cells": [
  {
   "cell_type": "markdown",
   "metadata": {},
   "source": [
    "# Multiprocessing\n",
    "python中的多线程其实并不是真正的多线程，如果想要充分地使用多核CPU的资源，在python中大部分情况需要使用多进程。Python提供了非常好用的多进程包multiprocessing，只需要定义一个函数，Python会完成其他所有事情。借助这个包，可以轻松完成从单进程到并发执行的转换。multiprocessing支持子进程、通信和共享数据、执行不同形式的同步，提供了Process、Queue、Pipe、Lock等组件。\n",
    "## 1. Process\n",
    "创建进程的类：Process([group [, target [, name [, args [, kwargs]]]]])，target表示调用对象，args表示调用对象的位置参数元组。kwargs表示调用对象的字典。name为别名。group实质上不使用。\n",
    "\n",
    "方法：is_alive()、join([timeout])、run()、start()、terminate()。其中，Process以start()启动某个进程。\n",
    "\n",
    "属性：authkey、daemon（要通过start()设置）、exitcode(进程在运行时为None、如果为–N，表示被信号N结束）、name、pid。其中daemon是父进程终止后自动终止，且自己不能产生新进程，必须在start()之前设置。\n",
    "\n",
    "例1.1：创建函数并将其作为单个进程"
   ]
  },
  {
   "cell_type": "code",
   "execution_count": 1,
   "metadata": {
    "collapsed": false
   },
   "outputs": [
    {
     "name": "stdout",
     "output_type": "stream",
     "text": [
      "p.pid: 36764\n",
      "p.name: Process-1\n",
      "p.is_alive: True\n",
      "The time is Wed Dec 14 20:33:16 2016\n",
      "The time is Wed Dec 14 20:33:19 2016\n",
      "The time is Wed Dec 14 20:33:22 2016\n",
      "The time is Wed Dec 14 20:33:25 2016\n",
      "The time is Wed Dec 14 20:33:28 2016\n"
     ]
    }
   ],
   "source": [
    "import multiprocessing\n",
    "import time\n",
    "\n",
    "def worker(interval):\n",
    "    n = 5\n",
    "    while n > 0:\n",
    "        print(\"The time is {0}\".format(time.ctime()))\n",
    "        time.sleep(interval)\n",
    "        n -= 1\n",
    "\n",
    "if __name__ == \"__main__\":\n",
    "    p = multiprocessing.Process(target = worker, args = (3,))\n",
    "    p.start()\n",
    "    print \"p.pid:\", p.pid\n",
    "    print \"p.name:\", p.name\n",
    "    print \"p.is_alive:\", p.is_alive()"
   ]
  },
  {
   "cell_type": "markdown",
   "metadata": {},
   "source": [
    "例1.2：创建函数并将其作为多个进程"
   ]
  },
  {
   "cell_type": "code",
   "execution_count": 2,
   "metadata": {
    "collapsed": false
   },
   "outputs": [
    {
     "name": "stdout",
     "output_type": "stream",
     "text": [
      "worker_1\n",
      "worker_2\n",
      "The number of CPU is:8\n",
      "child   p.name:Process-2\tp.id36810\n",
      "child   p.name:Process-4\tp.id36812\n",
      "child   p.name:Process-3\tp.id36811\n",
      "END!!!!!!!!!!!!!!!!!\n",
      "worker_3\n",
      "end worker_1\n",
      "end worker_2\n",
      "end worker_3\n"
     ]
    }
   ],
   "source": [
    "import multiprocessing\n",
    "import time\n",
    "\n",
    "def worker_1(interval):\n",
    "    print \"worker_1\"\n",
    "    time.sleep(interval)\n",
    "    print \"end worker_1\"\n",
    "\n",
    "def worker_2(interval):\n",
    "    print \"worker_2\"\n",
    "    time.sleep(interval)\n",
    "    print \"end worker_2\"\n",
    "\n",
    "def worker_3(interval):\n",
    "    print \"worker_3\"\n",
    "    time.sleep(interval)\n",
    "    print \"end worker_3\"\n",
    "\n",
    "if __name__ == \"__main__\":\n",
    "    p1 = multiprocessing.Process(target = worker_1, args = (2,))\n",
    "    p2 = multiprocessing.Process(target = worker_2, args = (3,))\n",
    "    p3 = multiprocessing.Process(target = worker_3, args = (4,))\n",
    "\n",
    "    p1.start()\n",
    "    p2.start()\n",
    "    p3.start()\n",
    "\n",
    "    print(\"The number of CPU is:\" + str(multiprocessing.cpu_count()))\n",
    "    for p in multiprocessing.active_children():\n",
    "        print(\"child   p.name:\" + p.name + \"\\tp.id\" + str(p.pid))\n",
    "    print \"END!!!!!!!!!!!!!!!!!\""
   ]
  },
  {
   "cell_type": "markdown",
   "metadata": {},
   "source": [
    "例1.3：将进程定义为类"
   ]
  },
  {
   "cell_type": "code",
   "execution_count": 3,
   "metadata": {
    "collapsed": false
   },
   "outputs": [
    {
     "name": "stdout",
     "output_type": "stream",
     "text": [
      "the time is Wed Dec 14 20:34:08 2016\n",
      "the time is Wed Dec 14 20:34:11 2016\n",
      "the time is Wed Dec 14 20:34:14 2016\n",
      "the time is Wed Dec 14 20:34:17 2016\n",
      "the time is Wed Dec 14 20:34:20 2016\n"
     ]
    }
   ],
   "source": [
    "import multiprocessing\n",
    "import time\n",
    "\n",
    "class ClockProcess(multiprocessing.Process):\n",
    "    def __init__(self, interval):\n",
    "        multiprocessing.Process.__init__(self)\n",
    "        self.interval = interval\n",
    "\n",
    "    def run(self):\n",
    "        n = 5\n",
    "        while n > 0:\n",
    "            print(\"the time is {0}\".format(time.ctime()))\n",
    "            time.sleep(self.interval)\n",
    "            n -= 1\n",
    "\n",
    "if __name__ == '__main__':\n",
    "    p = ClockProcess(3)\n",
    "    p.start()      "
   ]
  },
  {
   "cell_type": "markdown",
   "metadata": {},
   "source": [
    "注：进程p调用start()时，自动调用run()\n",
    "\n",
    "例1.4：daemon程序对比结果\n",
    "1.4-1 不加daemon属性"
   ]
  },
  {
   "cell_type": "code",
   "execution_count": 4,
   "metadata": {
    "collapsed": false
   },
   "outputs": [
    {
     "name": "stdout",
     "output_type": "stream",
     "text": [
      "end!\n",
      "work start:Wed Dec 14 20:35:46 2016\n",
      "work end:Wed Dec 14 20:35:49 2016\n"
     ]
    }
   ],
   "source": [
    "import multiprocessing\n",
    "import time\n",
    "\n",
    "def worker(interval):\n",
    "    print(\"work start:{0}\".format(time.ctime()));\n",
    "    time.sleep(interval)\n",
    "    print(\"work end:{0}\".format(time.ctime()));\n",
    "\n",
    "if __name__ == \"__main__\":\n",
    "    p = multiprocessing.Process(target = worker, args = (3,))\n",
    "    p.start()\n",
    "    print \"end!\""
   ]
  },
  {
   "cell_type": "markdown",
   "metadata": {},
   "source": [
    "1.4-2 加上daemon属性"
   ]
  },
  {
   "cell_type": "code",
   "execution_count": 5,
   "metadata": {
    "collapsed": false
   },
   "outputs": [
    {
     "name": "stdout",
     "output_type": "stream",
     "text": [
      "end!\n",
      "work start:Wed Dec 14 20:36:08 2016\n",
      "work end:Wed Dec 14 20:36:11 2016\n"
     ]
    }
   ],
   "source": [
    "import multiprocessing\n",
    "import time\n",
    "\n",
    "def worker(interval):\n",
    "    print(\"work start:{0}\".format(time.ctime()));\n",
    "    time.sleep(interval)\n",
    "    print(\"work end:{0}\".format(time.ctime()));\n",
    "\n",
    "if __name__ == \"__main__\":\n",
    "    p = multiprocessing.Process(target = worker, args = (3,))\n",
    "    p.daemon = True\n",
    "    p.start()\n",
    "    print \"end!\""
   ]
  },
  {
   "cell_type": "markdown",
   "metadata": {},
   "source": [
    "1.4-3 设置daemon执行完结束的方法"
   ]
  },
  {
   "cell_type": "code",
   "execution_count": 6,
   "metadata": {
    "collapsed": false
   },
   "outputs": [
    {
     "name": "stdout",
     "output_type": "stream",
     "text": [
      "work start:Wed Dec 14 20:36:34 2016\n",
      "work end:Wed Dec 14 20:36:37 2016\n",
      "end!\n"
     ]
    }
   ],
   "source": [
    "import multiprocessing\n",
    "import time\n",
    "\n",
    "def worker(interval):\n",
    "    print(\"work start:{0}\".format(time.ctime()));\n",
    "    time.sleep(interval)\n",
    "    print(\"work end:{0}\".format(time.ctime()));\n",
    "\n",
    "if __name__ == \"__main__\":\n",
    "    p = multiprocessing.Process(target = worker, args = (3,))\n",
    "    p.daemon = True\n",
    "    p.start()\n",
    "    p.join()\n",
    "    print \"end!\""
   ]
  },
  {
   "cell_type": "markdown",
   "metadata": {},
   "source": [
    "## 2. Lock\n",
    "当多个进程需要访问共享资源的时候，Lock可以用来避免访问的冲突。"
   ]
  },
  {
   "cell_type": "code",
   "execution_count": 7,
   "metadata": {
    "collapsed": false
   },
   "outputs": [
    {
     "name": "stdout",
     "output_type": "stream",
     "text": [
      "end\n"
     ]
    }
   ],
   "source": [
    "import multiprocessing\n",
    "import sys\n",
    "\n",
    "def worker_with(lock, f):\n",
    "    with lock:\n",
    "        fs = open(f, 'a+')\n",
    "        n = 10\n",
    "        while n > 1:\n",
    "            fs.write(\"Lockd acquired via with\\n\")\n",
    "            n -= 1\n",
    "        fs.close()\n",
    "        \n",
    "def worker_no_with(lock, f):\n",
    "    lock.acquire()\n",
    "    try:\n",
    "        fs = open(f, 'a+')\n",
    "        n = 10\n",
    "        while n > 1:\n",
    "            fs.write(\"Lock acquired directly\\n\")\n",
    "            n -= 1\n",
    "        fs.close()\n",
    "    finally:\n",
    "        lock.release()\n",
    "    \n",
    "if __name__ == \"__main__\":\n",
    "    lock = multiprocessing.Lock()\n",
    "    f = \"file.txt\"\n",
    "    w = multiprocessing.Process(target = worker_with, args=(lock, f))\n",
    "    nw = multiprocessing.Process(target = worker_no_with, args=(lock, f))\n",
    "    w.start()\n",
    "    nw.start()\n",
    "    print \"end\""
   ]
  },
  {
   "cell_type": "markdown",
   "metadata": {},
   "source": [
    "## 3. Semaphore\n",
    "Semaphore用来控制对共享资源的访问数量，例如池的最大连接数。"
   ]
  },
  {
   "cell_type": "code",
   "execution_count": 8,
   "metadata": {
    "collapsed": false
   },
   "outputs": [
    {
     "name": "stdout",
     "output_type": "stream",
     "text": [
      "Process-11acquire\n",
      "Process-11release\n",
      "Process-12acquire\n",
      "\n",
      "Process-13acquire\n",
      "Process-12release\n",
      "\n",
      "Process-14acquire\n",
      "Process-13release\n",
      "\n",
      "Process-15acquire\n",
      "Process-14release\n",
      "\n",
      "Process-15release\n",
      "\n"
     ]
    }
   ],
   "source": [
    "import multiprocessing\n",
    "import time\n",
    "\n",
    "def worker(s, i):\n",
    "    s.acquire()\n",
    "    print(multiprocessing.current_process().name + \"acquire\");\n",
    "    time.sleep(i)\n",
    "    print(multiprocessing.current_process().name + \"release\\n\");\n",
    "    s.release()\n",
    "\n",
    "if __name__ == \"__main__\":\n",
    "    s = multiprocessing.Semaphore(2)\n",
    "    for i in range(5):\n",
    "        p = multiprocessing.Process(target = worker, args=(s, i*2))\n",
    "        p.start()"
   ]
  },
  {
   "cell_type": "markdown",
   "metadata": {},
   "source": [
    "## 4. Event\n",
    "Event用来实现进程间同步通信。"
   ]
  },
  {
   "cell_type": "code",
   "execution_count": 9,
   "metadata": {
    "collapsed": false
   },
   "outputs": [
    {
     "name": "stdout",
     "output_type": "stream",
     "text": [
      "wait_for_event: starting\n",
      "wait_for_event_timeout:starting\n",
      "wait_for_event_timeout:e.is_set->False\n",
      "main: event is set\n",
      "wairt_for_event: e.is_set()->True\n"
     ]
    }
   ],
   "source": [
    "import multiprocessing\n",
    "import time\n",
    "\n",
    "def wait_for_event(e):\n",
    "    print(\"wait_for_event: starting\")\n",
    "    e.wait()\n",
    "    print(\"wairt_for_event: e.is_set()->\" + str(e.is_set()))\n",
    "\n",
    "def wait_for_event_timeout(e, t):\n",
    "    print(\"wait_for_event_timeout:starting\")\n",
    "    e.wait(t)\n",
    "    print(\"wait_for_event_timeout:e.is_set->\" + str(e.is_set()))\n",
    "\n",
    "if __name__ == \"__main__\":\n",
    "    e = multiprocessing.Event()\n",
    "    w1 = multiprocessing.Process(name = \"block\",\n",
    "            target = wait_for_event,\n",
    "            args = (e,))\n",
    "\n",
    "    w2 = multiprocessing.Process(name = \"non-block\",\n",
    "            target = wait_for_event_timeout,\n",
    "            args = (e, 2))\n",
    "    w1.start()\n",
    "    w2.start()\n",
    "\n",
    "    time.sleep(3)\n",
    "\n",
    "    e.set()\n",
    "    print(\"main: event is set\")"
   ]
  },
  {
   "cell_type": "markdown",
   "metadata": {},
   "source": [
    "## 5. Queue\n",
    "Queue是多进程安全的队列，可以使用Queue实现多进程之间的数据传递。put方法用以插入数据到队列中，put方法还有两个可选参数：blocked和timeout。如果blocked为True（默认值），并且timeout为正值，该方法会阻塞timeout指定的时间，直到该队列有剩余的空间。如果超时，会抛出Queue.Full异常。如果blocked为False，但该Queue已满，会立即抛出Queue.Full异常。\n",
    " \n",
    "get方法可以从队列读取并且删除一个元素。同样，get方法有两个可选参数：blocked和timeout。如果blocked为True（默认值），并且timeout为正值，那么在等待时间内没有取到任何元素，会抛出Queue.Empty异常。如果blocked为False，有两种情况存在，如果Queue有一个值可用，则立即返回该值，否则，如果队列为空，则立即抛出Queue.Empty异常。Queue的一段示例代码："
   ]
  },
  {
   "cell_type": "code",
   "execution_count": 10,
   "metadata": {
    "collapsed": false
   },
   "outputs": [
    {
     "name": "stdout",
     "output_type": "stream",
     "text": [
      "1\n"
     ]
    }
   ],
   "source": [
    "import multiprocessing\n",
    "\n",
    "def writer_proc(q):      \n",
    "    try:         \n",
    "        q.put(1, block = False) \n",
    "    except:         \n",
    "        pass   \n",
    "\n",
    "def reader_proc(q):      \n",
    "    try:         \n",
    "        print q.get(block = False) \n",
    "    except:         \n",
    "        pass\n",
    "\n",
    "if __name__ == \"__main__\":\n",
    "    q = multiprocessing.Queue()\n",
    "    writer = multiprocessing.Process(target=writer_proc, args=(q,))  \n",
    "    writer.start()   \n",
    "\n",
    "    reader = multiprocessing.Process(target=reader_proc, args=(q,))  \n",
    "    reader.start()  \n",
    "\n",
    "    reader.join()  \n",
    "    writer.join()"
   ]
  },
  {
   "cell_type": "markdown",
   "metadata": {},
   "source": [
    "## 6. Pipe\n",
    "Pipe方法返回(conn1, conn2)代表一个管道的两个端。Pipe方法有duplex参数，如果duplex参数为True(默认值)，那么这个管道是全双工模式，也就是说conn1和conn2均可收发。duplex为False，conn1只负责接受消息，conn2只负责发送消息。\n",
    " \n",
    "send和recv方法分别是发送和接受消息的方法。例如，在全双工模式下，可以调用conn1.send发送消息，conn1.recv接收消息。如果没有消息可接收，recv方法会一直阻塞。如果管道已经被关闭，那么recv方法会抛出EOFError。"
   ]
  },
  {
   "cell_type": "code",
   "execution_count": 11,
   "metadata": {
    "collapsed": false
   },
   "outputs": [
    {
     "name": "stdout",
     "output_type": "stream",
     "text": [
      "send: 0\n",
      "proc2 rev: 0\n",
      "send: 1\n",
      "proc2 rev: 1\n",
      "send: 2\n",
      "proc2 rev: 2\n",
      "send: 3\n",
      "proc2 rev: 3\n",
      "send: 4\n",
      "proc2 rev: 4\n",
      "send: 5\n",
      "proc2 rev: 5\n",
      "send: 6\n",
      "proc2 rev: 6\n",
      "send: 7\n",
      "proc2 rev: 7\n",
      "send: 8\n",
      "proc2 rev: 8\n",
      "send: 9\n",
      "proc2 rev: 9\n",
      "send: 10\n",
      "proc2 rev: 10\n",
      "send: 11\n",
      "proc2 rev: 11\n",
      "send: 12\n",
      "proc2 rev: 12\n",
      "send: 13\n",
      "proc2 rev: 13\n",
      "send: 14\n",
      "proc2 rev: 14\n",
      "send: 15\n",
      "proc2 rev: 15\n",
      "send: 16\n",
      "proc2 rev: 16\n",
      "send: 17\n",
      "proc2 rev: 17\n",
      "send: 18\n",
      "proc2 rev: 18\n",
      "send: 19\n",
      "proc2 rev: 19\n",
      "send: 20\n",
      "proc2 rev: 20\n",
      "send: 21\n",
      "proc2 rev: 21\n",
      "send: 22\n",
      "proc2 rev: 22\n",
      "send: 23\n",
      "proc2 rev: 23\n",
      "send: 24\n",
      "proc2 rev: 24\n",
      "send: 25\n",
      "proc2 rev: 25\n",
      "send: 26\n",
      "proc2 rev: 26\n",
      "send: 27\n",
      "proc2 rev: 27\n",
      "send: 28\n",
      "proc2 rev: 28\n",
      "send: 29\n",
      "proc2 rev: 29\n"
     ]
    },
    {
     "name": "stderr",
     "output_type": "stream",
     "text": [
      "Process Process-20:\n",
      "Process Process-21:\n",
      "Traceback (most recent call last):\n",
      "Traceback (most recent call last):\n",
      "    self.run()\n",
      "  File \"/Library/Frameworks/Python.framework/Versions/2.7/lib/python2.7/multiprocessing/process.py\", line 258, in _bootstrap\n",
      "  File \"/Library/Frameworks/Python.framework/Versions/2.7/lib/python2.7/multiprocessing/process.py\", line 258, in _bootstrap\n",
      "    self.run()\n",
      "  File \"/Library/Frameworks/Python.framework/Versions/2.7/lib/python2.7/multiprocessing/process.py\", line 114, in run\n",
      "  File \"/Library/Frameworks/Python.framework/Versions/2.7/lib/python2.7/multiprocessing/process.py\", line 114, in run\n",
      "    self._target(*self._args, **self._kwargs)\n",
      "    self._target(*self._args, **self._kwargs)\n",
      "  File \"<ipython-input-11-8473342edec9>\", line 14, in proc2\n",
      "  File \"<ipython-input-11-8473342edec9>\", line 9, in proc1\n",
      "    time.sleep(1)\n",
      "    time.sleep(1)\n",
      "KeyboardInterrupt\n",
      "KeyboardInterrupt\n"
     ]
    },
    {
     "ename": "KeyboardInterrupt",
     "evalue": "",
     "output_type": "error",
     "traceback": [
      "\u001b[0;31m---------------------------------------------------------------------------\u001b[0m",
      "\u001b[0;31mKeyboardInterrupt\u001b[0m                         Traceback (most recent call last)",
      "\u001b[0;32m<ipython-input-11-8473342edec9>\u001b[0m in \u001b[0;36m<module>\u001b[0;34m()\u001b[0m\n\u001b[1;32m     29\u001b[0m     \u001b[0;31m#p3.start()\u001b[0m\u001b[0;34m\u001b[0m\u001b[0;34m\u001b[0m\u001b[0m\n\u001b[1;32m     30\u001b[0m \u001b[0;34m\u001b[0m\u001b[0m\n\u001b[0;32m---> 31\u001b[0;31m     \u001b[0mp1\u001b[0m\u001b[0;34m.\u001b[0m\u001b[0mjoin\u001b[0m\u001b[0;34m(\u001b[0m\u001b[0;34m)\u001b[0m\u001b[0;34m\u001b[0m\u001b[0m\n\u001b[0m\u001b[1;32m     32\u001b[0m     \u001b[0mp2\u001b[0m\u001b[0;34m.\u001b[0m\u001b[0mjoin\u001b[0m\u001b[0;34m(\u001b[0m\u001b[0;34m)\u001b[0m\u001b[0;34m\u001b[0m\u001b[0m\n\u001b[1;32m     33\u001b[0m     \u001b[0;31m#p3.join()\u001b[0m\u001b[0;34m\u001b[0m\u001b[0;34m\u001b[0m\u001b[0m\n",
      "\u001b[0;32m/Library/Frameworks/Python.framework/Versions/2.7/lib/python2.7/multiprocessing/process.pyc\u001b[0m in \u001b[0;36mjoin\u001b[0;34m(self, timeout)\u001b[0m\n\u001b[1;32m    143\u001b[0m         \u001b[0;32massert\u001b[0m \u001b[0mself\u001b[0m\u001b[0;34m.\u001b[0m\u001b[0m_parent_pid\u001b[0m \u001b[0;34m==\u001b[0m \u001b[0mos\u001b[0m\u001b[0;34m.\u001b[0m\u001b[0mgetpid\u001b[0m\u001b[0;34m(\u001b[0m\u001b[0;34m)\u001b[0m\u001b[0;34m,\u001b[0m \u001b[0;34m'can only join a child process'\u001b[0m\u001b[0;34m\u001b[0m\u001b[0m\n\u001b[1;32m    144\u001b[0m         \u001b[0;32massert\u001b[0m \u001b[0mself\u001b[0m\u001b[0;34m.\u001b[0m\u001b[0m_popen\u001b[0m \u001b[0;32mis\u001b[0m \u001b[0;32mnot\u001b[0m \u001b[0mNone\u001b[0m\u001b[0;34m,\u001b[0m \u001b[0;34m'can only join a started process'\u001b[0m\u001b[0;34m\u001b[0m\u001b[0m\n\u001b[0;32m--> 145\u001b[0;31m         \u001b[0mres\u001b[0m \u001b[0;34m=\u001b[0m \u001b[0mself\u001b[0m\u001b[0;34m.\u001b[0m\u001b[0m_popen\u001b[0m\u001b[0;34m.\u001b[0m\u001b[0mwait\u001b[0m\u001b[0;34m(\u001b[0m\u001b[0mtimeout\u001b[0m\u001b[0;34m)\u001b[0m\u001b[0;34m\u001b[0m\u001b[0m\n\u001b[0m\u001b[1;32m    146\u001b[0m         \u001b[0;32mif\u001b[0m \u001b[0mres\u001b[0m \u001b[0;32mis\u001b[0m \u001b[0;32mnot\u001b[0m \u001b[0mNone\u001b[0m\u001b[0;34m:\u001b[0m\u001b[0;34m\u001b[0m\u001b[0m\n\u001b[1;32m    147\u001b[0m             \u001b[0m_current_process\u001b[0m\u001b[0;34m.\u001b[0m\u001b[0m_children\u001b[0m\u001b[0;34m.\u001b[0m\u001b[0mdiscard\u001b[0m\u001b[0;34m(\u001b[0m\u001b[0mself\u001b[0m\u001b[0;34m)\u001b[0m\u001b[0;34m\u001b[0m\u001b[0m\n",
      "\u001b[0;32m/Library/Frameworks/Python.framework/Versions/2.7/lib/python2.7/multiprocessing/forking.pyc\u001b[0m in \u001b[0;36mwait\u001b[0;34m(self, timeout)\u001b[0m\n\u001b[1;32m    152\u001b[0m         \u001b[0;32mdef\u001b[0m \u001b[0mwait\u001b[0m\u001b[0;34m(\u001b[0m\u001b[0mself\u001b[0m\u001b[0;34m,\u001b[0m \u001b[0mtimeout\u001b[0m\u001b[0;34m=\u001b[0m\u001b[0mNone\u001b[0m\u001b[0;34m)\u001b[0m\u001b[0;34m:\u001b[0m\u001b[0;34m\u001b[0m\u001b[0m\n\u001b[1;32m    153\u001b[0m             \u001b[0;32mif\u001b[0m \u001b[0mtimeout\u001b[0m \u001b[0;32mis\u001b[0m \u001b[0mNone\u001b[0m\u001b[0;34m:\u001b[0m\u001b[0;34m\u001b[0m\u001b[0m\n\u001b[0;32m--> 154\u001b[0;31m                 \u001b[0;32mreturn\u001b[0m \u001b[0mself\u001b[0m\u001b[0;34m.\u001b[0m\u001b[0mpoll\u001b[0m\u001b[0;34m(\u001b[0m\u001b[0;36m0\u001b[0m\u001b[0;34m)\u001b[0m\u001b[0;34m\u001b[0m\u001b[0m\n\u001b[0m\u001b[1;32m    155\u001b[0m             \u001b[0mdeadline\u001b[0m \u001b[0;34m=\u001b[0m \u001b[0mtime\u001b[0m\u001b[0;34m.\u001b[0m\u001b[0mtime\u001b[0m\u001b[0;34m(\u001b[0m\u001b[0;34m)\u001b[0m \u001b[0;34m+\u001b[0m \u001b[0mtimeout\u001b[0m\u001b[0;34m\u001b[0m\u001b[0m\n\u001b[1;32m    156\u001b[0m             \u001b[0mdelay\u001b[0m \u001b[0;34m=\u001b[0m \u001b[0;36m0.0005\u001b[0m\u001b[0;34m\u001b[0m\u001b[0m\n",
      "\u001b[0;32m/Library/Frameworks/Python.framework/Versions/2.7/lib/python2.7/multiprocessing/forking.pyc\u001b[0m in \u001b[0;36mpoll\u001b[0;34m(self, flag)\u001b[0m\n\u001b[1;32m    133\u001b[0m                 \u001b[0;32mwhile\u001b[0m \u001b[0mTrue\u001b[0m\u001b[0;34m:\u001b[0m\u001b[0;34m\u001b[0m\u001b[0m\n\u001b[1;32m    134\u001b[0m                     \u001b[0;32mtry\u001b[0m\u001b[0;34m:\u001b[0m\u001b[0;34m\u001b[0m\u001b[0m\n\u001b[0;32m--> 135\u001b[0;31m                         \u001b[0mpid\u001b[0m\u001b[0;34m,\u001b[0m \u001b[0msts\u001b[0m \u001b[0;34m=\u001b[0m \u001b[0mos\u001b[0m\u001b[0;34m.\u001b[0m\u001b[0mwaitpid\u001b[0m\u001b[0;34m(\u001b[0m\u001b[0mself\u001b[0m\u001b[0;34m.\u001b[0m\u001b[0mpid\u001b[0m\u001b[0;34m,\u001b[0m \u001b[0mflag\u001b[0m\u001b[0;34m)\u001b[0m\u001b[0;34m\u001b[0m\u001b[0m\n\u001b[0m\u001b[1;32m    136\u001b[0m                     \u001b[0;32mexcept\u001b[0m \u001b[0mos\u001b[0m\u001b[0;34m.\u001b[0m\u001b[0merror\u001b[0m \u001b[0;32mas\u001b[0m \u001b[0me\u001b[0m\u001b[0;34m:\u001b[0m\u001b[0;34m\u001b[0m\u001b[0m\n\u001b[1;32m    137\u001b[0m                         \u001b[0;32mif\u001b[0m \u001b[0me\u001b[0m\u001b[0;34m.\u001b[0m\u001b[0merrno\u001b[0m \u001b[0;34m==\u001b[0m \u001b[0merrno\u001b[0m\u001b[0;34m.\u001b[0m\u001b[0mEINTR\u001b[0m\u001b[0;34m:\u001b[0m\u001b[0;34m\u001b[0m\u001b[0m\n",
      "\u001b[0;31mKeyboardInterrupt\u001b[0m: "
     ]
    }
   ],
   "source": [
    "import multiprocessing\n",
    "import time\n",
    "\n",
    "def proc1(pipe):\n",
    "    while True:\n",
    "        for i in xrange(10000):\n",
    "            print \"send: %s\" %(i)\n",
    "            pipe.send(i)\n",
    "            time.sleep(1)\n",
    "\n",
    "def proc2(pipe):\n",
    "    while True:\n",
    "        print \"proc2 rev:\", pipe.recv()\n",
    "        time.sleep(1)\n",
    "\n",
    "def proc3(pipe):\n",
    "    while True:\n",
    "        print \"PROC3 rev:\", pipe.recv()\n",
    "        time.sleep(1)\n",
    "\n",
    "if __name__ == \"__main__\":\n",
    "    pipe = multiprocessing.Pipe()\n",
    "    p1 = multiprocessing.Process(target=proc1, args=(pipe[0],))\n",
    "    p2 = multiprocessing.Process(target=proc2, args=(pipe[1],))\n",
    "    #p3 = multiprocessing.Process(target=proc3, args=(pipe[1],))\n",
    "\n",
    "    p1.start()\n",
    "    p2.start()\n",
    "    #p3.start()\n",
    "\n",
    "    p1.join()\n",
    "    p2.join()\n",
    "    #p3.join()"
   ]
  },
  {
   "cell_type": "markdown",
   "metadata": {},
   "source": [
    "## 7. Pool\n",
    "在利用Python进行系统管理的时候，特别是同时操作多个文件目录，或者远程控制多台主机，并行操作可以节约大量的时间。当被操作对象数目不大时，可以直接利用multiprocessing中的Process动态成生多个进程，十几个还好，但如果是上百个，上千个目标，手动的去限制进程数量却又太过繁琐，此时可以发挥进程池的功效。\n",
    "Pool可以提供指定数量的进程，供用户调用，当有新的请求提交到pool中时，如果池还没有满，那么就会创建一个新的进程用来执行该请求；但如果池中的进程数已经达到规定最大值，那么该请求就会等待，直到池中有进程结束，才会创建新的进程来它\n",
    "\n",
    "例7.1：使用进程池（非阻塞）"
   ]
  },
  {
   "cell_type": "code",
   "execution_count": 12,
   "metadata": {
    "collapsed": false
   },
   "outputs": [
    {
     "name": "stdout",
     "output_type": "stream",
     "text": [
      "msg: hello 1\n",
      "msg: hello 0\n",
      "msg: hello 2\n",
      "Mark~ Mark~ Mark~~~~~~~~~~~~~~~~~~~~~~\n",
      "end\n",
      "end\n",
      "end\n",
      "msg: hello 3\n",
      "end\n",
      "Sub-process(es) done.\n"
     ]
    }
   ],
   "source": [
    "#coding: utf-8\n",
    "import multiprocessing\n",
    "import time\n",
    "\n",
    "def func(msg):\n",
    "    print \"msg:\", msg\n",
    "    time.sleep(3)\n",
    "    print \"end\"\n",
    "\n",
    "if __name__ == \"__main__\":\n",
    "    pool = multiprocessing.Pool(processes = 3)\n",
    "    for i in xrange(4):\n",
    "        msg = \"hello %d\" %(i)\n",
    "        pool.apply_async(func, (msg, ))   #维持执行的进程总数为processes，当一个进程执行完毕后会添加新的进程进去\n",
    "\n",
    "    print \"Mark~ Mark~ Mark~~~~~~~~~~~~~~~~~~~~~~\"\n",
    "    pool.close()\n",
    "    pool.join()   #调用join之前，先调用close函数，否则会出错。执行完close后不会有新的进程加入到pool,join函数等待所有子进程结束\n",
    "    print \"Sub-process(es) done.\""
   ]
  },
  {
   "cell_type": "markdown",
   "metadata": {},
   "source": [
    "函数解释：\n",
    "+ apply_async(func[, args[, kwds[, callback]]]) 它是非阻塞，apply(func[, args[, kwds]])是阻塞的（理解区别，看例1例2结果区别）\n",
    "+ close()    关闭pool，使其不在接受新的任务。\n",
    "+ terminate()    结束工作进程，不在处理未完成的任务。\n",
    "+ join()    主进程阻塞，等待子进程的退出， join方法要在close或terminate之后使用。\n",
    "\n",
    "执行说明：创建一个进程池pool，并设定进程的数量为3，xrange(4)会相继产生四个对象[0, 1, 2, 4]，四个对象被提交到pool中，因pool指定进程数为3，所以0、1、2会直接送到进程中执行，当其中一个执行完事后才空出一个进程处理对象3，所以会出现输出“msg: hello 3”出现在\"end\"后。因为为非阻塞，主函数会自己执行自个的，不搭理进程的执行，所以运行完for循环后直接输出“mMsg: hark~ Mark~ Mark~~~~~~~~~~~~~~~~~~~~~~”，主程序在pool.join（）处等待各个进程的结束。\n",
    "\n",
    "例7.2：使用进程池（阻塞）"
   ]
  },
  {
   "cell_type": "code",
   "execution_count": 13,
   "metadata": {
    "collapsed": false
   },
   "outputs": [
    {
     "name": "stdout",
     "output_type": "stream",
     "text": [
      "msg: hello 0\n",
      "end\n",
      "msg: hello 1\n",
      "end\n",
      "msg: hello 2\n",
      "end\n",
      "msg: hello 3\n",
      "end\n",
      "Mark~ Mark~ Mark~~~~~~~~~~~~~~~~~~~~~~\n",
      "Sub-process(es) done.\n"
     ]
    }
   ],
   "source": [
    "#coding: utf-8\n",
    "import multiprocessing\n",
    "import time\n",
    "\n",
    "def func(msg):\n",
    "    print \"msg:\", msg\n",
    "    time.sleep(3)\n",
    "    print \"end\"\n",
    "\n",
    "if __name__ == \"__main__\":\n",
    "    pool = multiprocessing.Pool(processes = 3)\n",
    "    for i in xrange(4):\n",
    "        msg = \"hello %d\" %(i)\n",
    "        pool.apply(func, (msg, ))   #维持执行的进程总数为processes，当一个进程执行完毕后会添加新的进程进去\n",
    "\n",
    "    print \"Mark~ Mark~ Mark~~~~~~~~~~~~~~~~~~~~~~\"\n",
    "    pool.close()\n",
    "    pool.join()   #调用join之前，先调用close函数，否则会出错。执行完close后不会有新的进程加入到pool,join函数等待所有子进程结束\n",
    "    print \"Sub-process(es) done.\""
   ]
  },
  {
   "cell_type": "markdown",
   "metadata": {},
   "source": [
    "例7.3：使用进程池，并关注结果"
   ]
  },
  {
   "cell_type": "code",
   "execution_count": 14,
   "metadata": {
    "collapsed": false
   },
   "outputs": [
    {
     "name": "stdout",
     "output_type": "stream",
     "text": [
      "msg: hello 1\n",
      "msg: hello 2\n",
      "msg: hello 0\n",
      "end\n",
      "end\n",
      "end\n",
      "::: donehello 0\n",
      "::: donehello 1\n",
      "::: donehello 2\n",
      "Sub-process(es) done.\n"
     ]
    }
   ],
   "source": [
    "import multiprocessing\n",
    "import time\n",
    "\n",
    "def func(msg):\n",
    "    print \"msg:\", msg\n",
    "    time.sleep(3)\n",
    "    print \"end\"\n",
    "    return \"done\" + msg\n",
    "\n",
    "if __name__ == \"__main__\":\n",
    "    pool = multiprocessing.Pool(processes=4)\n",
    "    result = []\n",
    "    for i in xrange(3):\n",
    "        msg = \"hello %d\" %(i)\n",
    "        result.append(pool.apply_async(func, (msg, )))\n",
    "    pool.close()\n",
    "    pool.join()\n",
    "    for res in result:\n",
    "        print \":::\", res.get()\n",
    "    print \"Sub-process(es) done.\""
   ]
  },
  {
   "cell_type": "markdown",
   "metadata": {},
   "source": [
    "例7.4：使用多个进程池v"
   ]
  },
  {
   "cell_type": "code",
   "execution_count": 15,
   "metadata": {
    "collapsed": false
   },
   "outputs": [
    {
     "name": "stdout",
     "output_type": "stream",
     "text": [
      "parent process 36594\n",
      "\n",
      "Run task Allen-37767\n",
      "Run task Marlon-37766\n",
      "Run task Lee-37765\n",
      "\n",
      "\n",
      "Run task Frank-37768\n",
      "\n",
      "Waiting for all subprocesses done...\n",
      "Task Allen runs 1.81 seconds.\n",
      "Task Lee, runs 5.94 seconds.\n",
      "Task Marlon runs 7.48 seconds.\n",
      "Task Frank runs 11.95 seconds.\n",
      "All subprocesses done.\n"
     ]
    }
   ],
   "source": [
    "#coding: utf-8\n",
    "import multiprocessing\n",
    "import os, time, random\n",
    "\n",
    "def Lee():\n",
    "    print \"\\nRun task Lee-%s\" %(os.getpid()) #os.getpid()获取当前的进程的ID\n",
    "    start = time.time()\n",
    "    time.sleep(random.random() * 10) #random.random()随机生成0-1之间的小数\n",
    "    end = time.time()\n",
    "    print 'Task Lee, runs %0.2f seconds.' %(end - start)\n",
    "\n",
    "def Marlon():\n",
    "    print \"\\nRun task Marlon-%s\" %(os.getpid())\n",
    "    start = time.time()\n",
    "    time.sleep(random.random() * 40)\n",
    "    end=time.time()\n",
    "    print 'Task Marlon runs %0.2f seconds.' %(end - start)\n",
    "\n",
    "def Allen():\n",
    "    print \"\\nRun task Allen-%s\" %(os.getpid())\n",
    "    start = time.time()\n",
    "    time.sleep(random.random() * 30)\n",
    "    end = time.time()\n",
    "    print 'Task Allen runs %0.2f seconds.' %(end - start)\n",
    "\n",
    "def Frank():\n",
    "    print \"\\nRun task Frank-%s\" %(os.getpid())\n",
    "    start = time.time()\n",
    "    time.sleep(random.random() * 20)\n",
    "    end = time.time()\n",
    "    print 'Task Frank runs %0.2f seconds.' %(end - start)\n",
    "        \n",
    "if __name__=='__main__':\n",
    "    function_list=  [Lee, Marlon, Allen, Frank] \n",
    "    print \"parent process %s\" %(os.getpid())\n",
    "\n",
    "    pool=multiprocessing.Pool(4)\n",
    "    for func in function_list:\n",
    "        pool.apply_async(func)     #Pool执行函数，apply执行函数,当有一个进程执行完毕后，会添加一个新的进程到pool中\n",
    "\n",
    "    print 'Waiting for all subprocesses done...'\n",
    "    pool.close()\n",
    "    pool.join()    #调用join之前，一定要先调用close() 函数，否则会出错, close()执行后不会有新的进程加入到pool,join函数等待素有子进程结束\n",
    "    print 'All subprocesses done.'"
   ]
  }
 ],
 "metadata": {
  "kernelspec": {
   "display_name": "Python 2",
   "language": "python",
   "name": "python2"
  },
  "language_info": {
   "codemirror_mode": {
    "name": "ipython",
    "version": 2
   },
   "file_extension": ".py",
   "mimetype": "text/x-python",
   "name": "python",
   "nbconvert_exporter": "python",
   "pygments_lexer": "ipython2",
   "version": "2.7.11"
  }
 },
 "nbformat": 4,
 "nbformat_minor": 1
}
